{
 "cells": [
  {
   "cell_type": "markdown",
   "metadata": {},
   "source": [
    "# Tutorial of Dendrite-Center model simulation"
   ]
  },
  {
   "cell_type": "markdown",
   "metadata": {},
   "source": [
    "**Center** model s a dendrite simulation in which a round nucleus is generated from the center.<br>\n",
    "This tutorial will show you how to run the simulation."
   ]
  },
  {
   "cell_type": "code",
   "execution_count": null,
   "metadata": {},
   "outputs": [],
   "source": [
    "import phasepy"
   ]
  },
  {
   "cell_type": "markdown",
   "metadata": {},
   "source": [
    "### How to save the format of an input file to your environment\n",
    "\n",
    "Before running the simulation, please make sure that the input files are properly formatted and loaded into your environment.<br>\n",
    "If the setup does not live in your environment, you can do as follow : \n",
    " ```python\n",
    " phasepy.FmtFile.mk_yourenv(copy_path=copy_path)\n",
    " ```\n"
   ]
  },
  {
   "cell_type": "code",
   "execution_count": null,
   "metadata": {},
   "outputs": [],
   "source": [
    "import os\n",
    "\n",
    "copy_path = \"input\"\n",
    "try:\n",
    "    phasepy.FmtFile.mk_yourenv(copy_path=copy_path)\n",
    "except FileExistsError:\n",
    "    print(\"Already exist <\" + os.path.abspath(copy_path) + \" >\")"
   ]
  },
  {
   "cell_type": "markdown",
   "metadata": {},
   "source": [
    "### How to Set Simulation Conditions\n",
    "\n",
    "If the input directory is created as described above, the following file structure will be output.<br>\n",
    "\n",
    "> <strong>Configuration of input directory </strong>\n",
    "\n",
    "- input\n",
    "  - dendrite\n",
    "    - Center\n",
    "      - **format.yaml**\n",
    "    - ...\n",
    "  - ...\n",
    "    - ...\n",
    "\n",
    "Set the appropriate parameters by copying or editing the format file.<br>\n"
   ]
  },
  {
   "cell_type": "markdown",
   "metadata": {},
   "source": [
    "The first step is to call the center model.\n",
    "\n",
    "```python\n",
    "center = phasepy.dendrite.Center()\n",
    "```"
   ]
  },
  {
   "cell_type": "code",
   "execution_count": null,
   "metadata": {},
   "outputs": [],
   "source": [
    "center = phasepy.dendrite.Center()"
   ]
  },
  {
   "cell_type": "markdown",
   "metadata": {},
   "source": [
    "Next, set the PATH of the input file you have just set.\n",
    "\n",
    "```python\n",
    "center.set_input_path(input_path=input_path)\n",
    "```"
   ]
  },
  {
   "cell_type": "code",
   "execution_count": null,
   "metadata": {},
   "outputs": [],
   "source": [
    "# This should be changed according to your environment\n",
    "input_path = \"input/dendrite/Center/format.yaml\"\n",
    "center.set_input_path(input_path=input_path)"
   ]
  },
  {
   "cell_type": "markdown",
   "metadata": {},
   "source": [
    "Finally, please file the output file. (Files are generated in the output file for one simulation, so please generate the files yourself if necessary.)\n",
    "\n",
    "```python\n",
    "center.set_output_path(output_path=output_path)\n",
    "```"
   ]
  },
  {
   "cell_type": "code",
   "execution_count": null,
   "metadata": {},
   "outputs": [],
   "source": [
    "# Example of output file creation\n",
    "i = 1\n",
    "while True:\n",
    "    output_path = \"output/simu_\" + str(i)\n",
    "    if os.path.exists(output_path) == False:\n",
    "        os.mkdir(output_path)\n",
    "        \n",
    "        print(\"Success to make <\" + os.path.abspath(output_path) + \" >\")\n",
    "        break\n",
    "    i = i + 1\n",
    "\n",
    "center.set_output_path(output_path=output_path)"
   ]
  },
  {
   "cell_type": "markdown",
   "metadata": {},
   "source": [
    "### Start simulation\n",
    "To run the simulation, invoke **main** as follows (In most cases where an error occurs, there is most likely a mistake in the condition setup.)\n",
    "\n",
    "```python\n",
    "center.main()\n",
    "```"
   ]
  },
  {
   "cell_type": "code",
   "execution_count": null,
   "metadata": {},
   "outputs": [],
   "source": [
    "center.main()"
   ]
  }
 ],
 "metadata": {
  "interpreter": {
   "hash": "ae867134a5d1e65eec162bd185b8815c024a1b60d3be7a9343a298926c4e9b9a"
  },
  "kernelspec": {
   "display_name": "Python 3.7.7 64-bit",
   "language": "python",
   "name": "python3"
  },
  "language_info": {
   "codemirror_mode": {
    "name": "ipython",
    "version": 3
   },
   "file_extension": ".py",
   "mimetype": "text/x-python",
   "name": "python",
   "nbconvert_exporter": "python",
   "pygments_lexer": "ipython3",
   "version": "3.7.7"
  },
  "orig_nbformat": 4
 },
 "nbformat": 4,
 "nbformat_minor": 2
}
